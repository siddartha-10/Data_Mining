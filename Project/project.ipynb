{
 "cells": [
  {
   "cell_type": "code",
   "execution_count": 126,
   "id": "8c9e44b4",
   "metadata": {},
   "outputs": [],
   "source": [
    "import pandas as pd\n",
    "import numpy as np\n",
    "import seaborn as sns\n",
    "from sklearn.datasets import fetch_openml\n",
    "from sklearn.preprocessing import StandardScaler\n",
    "from sklearn.svm import SVC\n",
    "from sklearn.model_selection import train_test_split\n",
    "from sklearn.metrics import accuracy_score, precision_score, recall_score, f1_score\n",
    "from sklearn.feature_selection import RFE\n",
    "from sklearn.linear_model import LinearRegression\n",
    "import matplotlib.pyplot as plt\n",
    "%matplotlib inline"
   ]
  },
  {
   "cell_type": "markdown",
   "id": "6a732e22",
   "metadata": {},
   "source": [
    "### These gives the description of the columns for better understanding\n",
    "#### Number of times pregnant\n",
    "#### Plasma glucose concentration a 2 hours in an oral glucose tolerance test\n",
    "#### Diastolic blood pressure (mm Hg)\n",
    "#### Triceps skin fold thickness (mm)\n",
    "#### 2-Hour serum insulin (mu U/ml)\n",
    "#### Body mass index (weight in kg/(height in m)^2)\n",
    "#### Diabetes pedigree function\n",
    "#### Age (years)\n",
    "#### Class variable (0 or 1)"
   ]
  },
  {
   "cell_type": "code",
   "execution_count": 127,
   "id": "c6b8d35c",
   "metadata": {},
   "outputs": [
    {
     "name": "stderr",
     "output_type": "stream",
     "text": [
      "/Library/Frameworks/Python.framework/Versions/3.10/lib/python3.10/site-packages/sklearn/datasets/_openml.py:968: FutureWarning: The default value of `parser` will change from `'liac-arff'` to `'auto'` in 1.4. You can set `parser='auto'` to silence this warning. Therefore, an `ImportError` will be raised from 1.4 if the dataset is dense and pandas is not installed. Note that the pandas parser may return different data types. See the Notes Section in fetch_openml's API doc for details.\n",
      "  warn(\n"
     ]
    }
   ],
   "source": [
    "dataset = fetch_openml(data_id = '37',as_frame=True)"
   ]
  },
  {
   "cell_type": "markdown",
   "id": "3493eae9",
   "metadata": {},
   "source": [
    "### here we can see that the type of the data is sklearn.utils_bunch"
   ]
  },
  {
   "cell_type": "code",
   "execution_count": 128,
   "id": "a65e9010",
   "metadata": {},
   "outputs": [
    {
     "data": {
      "text/plain": [
       "sklearn.utils._bunch.Bunch"
      ]
     },
     "execution_count": 128,
     "metadata": {},
     "output_type": "execute_result"
    }
   ],
   "source": [
    "type(dataset)"
   ]
  },
  {
   "cell_type": "markdown",
   "id": "a681933f",
   "metadata": {},
   "source": [
    "### converting the data from sklearn.utils.bunch to pandas dataframe"
   ]
  },
  {
   "cell_type": "code",
   "execution_count": 129,
   "id": "24ce5327",
   "metadata": {},
   "outputs": [],
   "source": [
    "df = pd.DataFrame(dataset.data,columns=dataset.feature_names)"
   ]
  },
  {
   "cell_type": "code",
   "execution_count": 130,
   "id": "bd84b10b",
   "metadata": {},
   "outputs": [
    {
     "data": {
      "text/plain": [
       "pandas.core.frame.DataFrame"
      ]
     },
     "execution_count": 130,
     "metadata": {},
     "output_type": "execute_result"
    }
   ],
   "source": [
    "type(df) ## here we can see that the data has been converted to dataframe"
   ]
  },
  {
   "cell_type": "code",
   "execution_count": 131,
   "id": "f4818f9a",
   "metadata": {},
   "outputs": [],
   "source": [
    "df['target'] = dataset.target"
   ]
  },
  {
   "cell_type": "code",
   "execution_count": 132,
   "id": "215886ca",
   "metadata": {},
   "outputs": [
    {
     "data": {
      "text/html": [
       "<div>\n",
       "<style scoped>\n",
       "    .dataframe tbody tr th:only-of-type {\n",
       "        vertical-align: middle;\n",
       "    }\n",
       "\n",
       "    .dataframe tbody tr th {\n",
       "        vertical-align: top;\n",
       "    }\n",
       "\n",
       "    .dataframe thead th {\n",
       "        text-align: right;\n",
       "    }\n",
       "</style>\n",
       "<table border=\"1\" class=\"dataframe\">\n",
       "  <thead>\n",
       "    <tr style=\"text-align: right;\">\n",
       "      <th></th>\n",
       "      <th>preg</th>\n",
       "      <th>plas</th>\n",
       "      <th>pres</th>\n",
       "      <th>skin</th>\n",
       "      <th>insu</th>\n",
       "      <th>mass</th>\n",
       "      <th>pedi</th>\n",
       "      <th>age</th>\n",
       "      <th>target</th>\n",
       "    </tr>\n",
       "  </thead>\n",
       "  <tbody>\n",
       "    <tr>\n",
       "      <th>0</th>\n",
       "      <td>6.0</td>\n",
       "      <td>148.0</td>\n",
       "      <td>72.0</td>\n",
       "      <td>35.0</td>\n",
       "      <td>0.0</td>\n",
       "      <td>33.6</td>\n",
       "      <td>0.627</td>\n",
       "      <td>50.0</td>\n",
       "      <td>tested_positive</td>\n",
       "    </tr>\n",
       "    <tr>\n",
       "      <th>1</th>\n",
       "      <td>1.0</td>\n",
       "      <td>85.0</td>\n",
       "      <td>66.0</td>\n",
       "      <td>29.0</td>\n",
       "      <td>0.0</td>\n",
       "      <td>26.6</td>\n",
       "      <td>0.351</td>\n",
       "      <td>31.0</td>\n",
       "      <td>tested_negative</td>\n",
       "    </tr>\n",
       "    <tr>\n",
       "      <th>2</th>\n",
       "      <td>8.0</td>\n",
       "      <td>183.0</td>\n",
       "      <td>64.0</td>\n",
       "      <td>0.0</td>\n",
       "      <td>0.0</td>\n",
       "      <td>23.3</td>\n",
       "      <td>0.672</td>\n",
       "      <td>32.0</td>\n",
       "      <td>tested_positive</td>\n",
       "    </tr>\n",
       "    <tr>\n",
       "      <th>3</th>\n",
       "      <td>1.0</td>\n",
       "      <td>89.0</td>\n",
       "      <td>66.0</td>\n",
       "      <td>23.0</td>\n",
       "      <td>94.0</td>\n",
       "      <td>28.1</td>\n",
       "      <td>0.167</td>\n",
       "      <td>21.0</td>\n",
       "      <td>tested_negative</td>\n",
       "    </tr>\n",
       "    <tr>\n",
       "      <th>4</th>\n",
       "      <td>0.0</td>\n",
       "      <td>137.0</td>\n",
       "      <td>40.0</td>\n",
       "      <td>35.0</td>\n",
       "      <td>168.0</td>\n",
       "      <td>43.1</td>\n",
       "      <td>2.288</td>\n",
       "      <td>33.0</td>\n",
       "      <td>tested_positive</td>\n",
       "    </tr>\n",
       "  </tbody>\n",
       "</table>\n",
       "</div>"
      ],
      "text/plain": [
       "   preg   plas  pres  skin   insu  mass   pedi   age           target\n",
       "0   6.0  148.0  72.0  35.0    0.0  33.6  0.627  50.0  tested_positive\n",
       "1   1.0   85.0  66.0  29.0    0.0  26.6  0.351  31.0  tested_negative\n",
       "2   8.0  183.0  64.0   0.0    0.0  23.3  0.672  32.0  tested_positive\n",
       "3   1.0   89.0  66.0  23.0   94.0  28.1  0.167  21.0  tested_negative\n",
       "4   0.0  137.0  40.0  35.0  168.0  43.1  2.288  33.0  tested_positive"
      ]
     },
     "execution_count": 132,
     "metadata": {},
     "output_type": "execute_result"
    }
   ],
   "source": [
    "df.head()"
   ]
  },
  {
   "cell_type": "markdown",
   "id": "5a8f6844",
   "metadata": {},
   "source": [
    "### Since we don't know any information about the data let's see what are the different datatypes present"
   ]
  },
  {
   "cell_type": "code",
   "execution_count": 133,
   "id": "3c97623a",
   "metadata": {},
   "outputs": [
    {
     "name": "stdout",
     "output_type": "stream",
     "text": [
      "<class 'pandas.core.frame.DataFrame'>\n",
      "RangeIndex: 768 entries, 0 to 767\n",
      "Data columns (total 9 columns):\n",
      " #   Column  Non-Null Count  Dtype   \n",
      "---  ------  --------------  -----   \n",
      " 0   preg    768 non-null    float64 \n",
      " 1   plas    768 non-null    float64 \n",
      " 2   pres    768 non-null    float64 \n",
      " 3   skin    768 non-null    float64 \n",
      " 4   insu    768 non-null    float64 \n",
      " 5   mass    768 non-null    float64 \n",
      " 6   pedi    768 non-null    float64 \n",
      " 7   age     768 non-null    float64 \n",
      " 8   target  768 non-null    category\n",
      "dtypes: category(1), float64(8)\n",
      "memory usage: 49.0 KB\n"
     ]
    }
   ],
   "source": [
    "df.info()\n",
    "## here we can see that all the features except the target are all flaot64"
   ]
  },
  {
   "cell_type": "markdown",
   "id": "9b7b8d6c",
   "metadata": {},
   "source": [
    "### let's describe the data and see some basic stats"
   ]
  },
  {
   "cell_type": "code",
   "execution_count": 134,
   "id": "67f567d1",
   "metadata": {},
   "outputs": [
    {
     "data": {
      "text/html": [
       "<div>\n",
       "<style scoped>\n",
       "    .dataframe tbody tr th:only-of-type {\n",
       "        vertical-align: middle;\n",
       "    }\n",
       "\n",
       "    .dataframe tbody tr th {\n",
       "        vertical-align: top;\n",
       "    }\n",
       "\n",
       "    .dataframe thead th {\n",
       "        text-align: right;\n",
       "    }\n",
       "</style>\n",
       "<table border=\"1\" class=\"dataframe\">\n",
       "  <thead>\n",
       "    <tr style=\"text-align: right;\">\n",
       "      <th></th>\n",
       "      <th>preg</th>\n",
       "      <th>plas</th>\n",
       "      <th>pres</th>\n",
       "      <th>skin</th>\n",
       "      <th>insu</th>\n",
       "      <th>mass</th>\n",
       "      <th>pedi</th>\n",
       "      <th>age</th>\n",
       "    </tr>\n",
       "  </thead>\n",
       "  <tbody>\n",
       "    <tr>\n",
       "      <th>count</th>\n",
       "      <td>768.000000</td>\n",
       "      <td>768.000000</td>\n",
       "      <td>768.000000</td>\n",
       "      <td>768.000000</td>\n",
       "      <td>768.000000</td>\n",
       "      <td>768.000000</td>\n",
       "      <td>768.000000</td>\n",
       "      <td>768.000000</td>\n",
       "    </tr>\n",
       "    <tr>\n",
       "      <th>mean</th>\n",
       "      <td>3.845052</td>\n",
       "      <td>120.894531</td>\n",
       "      <td>69.105469</td>\n",
       "      <td>20.536458</td>\n",
       "      <td>79.799479</td>\n",
       "      <td>31.992578</td>\n",
       "      <td>0.471876</td>\n",
       "      <td>33.240885</td>\n",
       "    </tr>\n",
       "    <tr>\n",
       "      <th>std</th>\n",
       "      <td>3.369578</td>\n",
       "      <td>31.972618</td>\n",
       "      <td>19.355807</td>\n",
       "      <td>15.952218</td>\n",
       "      <td>115.244002</td>\n",
       "      <td>7.884160</td>\n",
       "      <td>0.331329</td>\n",
       "      <td>11.760232</td>\n",
       "    </tr>\n",
       "    <tr>\n",
       "      <th>min</th>\n",
       "      <td>0.000000</td>\n",
       "      <td>0.000000</td>\n",
       "      <td>0.000000</td>\n",
       "      <td>0.000000</td>\n",
       "      <td>0.000000</td>\n",
       "      <td>0.000000</td>\n",
       "      <td>0.078000</td>\n",
       "      <td>21.000000</td>\n",
       "    </tr>\n",
       "    <tr>\n",
       "      <th>25%</th>\n",
       "      <td>1.000000</td>\n",
       "      <td>99.000000</td>\n",
       "      <td>62.000000</td>\n",
       "      <td>0.000000</td>\n",
       "      <td>0.000000</td>\n",
       "      <td>27.300000</td>\n",
       "      <td>0.243750</td>\n",
       "      <td>24.000000</td>\n",
       "    </tr>\n",
       "    <tr>\n",
       "      <th>50%</th>\n",
       "      <td>3.000000</td>\n",
       "      <td>117.000000</td>\n",
       "      <td>72.000000</td>\n",
       "      <td>23.000000</td>\n",
       "      <td>30.500000</td>\n",
       "      <td>32.000000</td>\n",
       "      <td>0.372500</td>\n",
       "      <td>29.000000</td>\n",
       "    </tr>\n",
       "    <tr>\n",
       "      <th>75%</th>\n",
       "      <td>6.000000</td>\n",
       "      <td>140.250000</td>\n",
       "      <td>80.000000</td>\n",
       "      <td>32.000000</td>\n",
       "      <td>127.250000</td>\n",
       "      <td>36.600000</td>\n",
       "      <td>0.626250</td>\n",
       "      <td>41.000000</td>\n",
       "    </tr>\n",
       "    <tr>\n",
       "      <th>max</th>\n",
       "      <td>17.000000</td>\n",
       "      <td>199.000000</td>\n",
       "      <td>122.000000</td>\n",
       "      <td>99.000000</td>\n",
       "      <td>846.000000</td>\n",
       "      <td>67.100000</td>\n",
       "      <td>2.420000</td>\n",
       "      <td>81.000000</td>\n",
       "    </tr>\n",
       "  </tbody>\n",
       "</table>\n",
       "</div>"
      ],
      "text/plain": [
       "             preg        plas        pres        skin        insu        mass   \n",
       "count  768.000000  768.000000  768.000000  768.000000  768.000000  768.000000  \\\n",
       "mean     3.845052  120.894531   69.105469   20.536458   79.799479   31.992578   \n",
       "std      3.369578   31.972618   19.355807   15.952218  115.244002    7.884160   \n",
       "min      0.000000    0.000000    0.000000    0.000000    0.000000    0.000000   \n",
       "25%      1.000000   99.000000   62.000000    0.000000    0.000000   27.300000   \n",
       "50%      3.000000  117.000000   72.000000   23.000000   30.500000   32.000000   \n",
       "75%      6.000000  140.250000   80.000000   32.000000  127.250000   36.600000   \n",
       "max     17.000000  199.000000  122.000000   99.000000  846.000000   67.100000   \n",
       "\n",
       "             pedi         age  \n",
       "count  768.000000  768.000000  \n",
       "mean     0.471876   33.240885  \n",
       "std      0.331329   11.760232  \n",
       "min      0.078000   21.000000  \n",
       "25%      0.243750   24.000000  \n",
       "50%      0.372500   29.000000  \n",
       "75%      0.626250   41.000000  \n",
       "max      2.420000   81.000000  "
      ]
     },
     "execution_count": 134,
     "metadata": {},
     "output_type": "execute_result"
    }
   ],
   "source": [
    "df.describe()"
   ]
  },
  {
   "cell_type": "markdown",
   "id": "ed735ff8",
   "metadata": {},
   "source": [
    "### We will see how many unique target elements are present in the data"
   ]
  },
  {
   "cell_type": "code",
   "execution_count": 135,
   "id": "339c8a4f",
   "metadata": {},
   "outputs": [
    {
     "data": {
      "text/plain": [
       "['tested_positive', 'tested_negative']\n",
       "Categories (2, object): ['tested_negative', 'tested_positive']"
      ]
     },
     "execution_count": 135,
     "metadata": {},
     "output_type": "execute_result"
    }
   ],
   "source": [
    "df['target'].unique()\n",
    "## here we can see that there are only 2 objects that are test_positive and tested_negative"
   ]
  },
  {
   "cell_type": "markdown",
   "id": "d4e2bafe",
   "metadata": {},
   "source": [
    "### Now let's convert the Target column into numeric as well and 0=> tested_negative and 1=> tested positive"
   ]
  },
  {
   "cell_type": "code",
   "execution_count": 136,
   "id": "e5ca5fa7",
   "metadata": {},
   "outputs": [],
   "source": [
    "## this method here is used to convert the target variable into 0 or 1\n",
    "def target_cov(num):\n",
    "    if(num==\"tested_positive\"):\n",
    "        return 1\n",
    "    elif(num==\"tested_negative\"):\n",
    "        return 0"
   ]
  },
  {
   "cell_type": "code",
   "execution_count": 137,
   "id": "3b34ab83",
   "metadata": {},
   "outputs": [],
   "source": [
    "df['target_num'] = df['target'].apply(target_cov)"
   ]
  },
  {
   "cell_type": "code",
   "execution_count": 138,
   "id": "30671e9e",
   "metadata": {},
   "outputs": [
    {
     "data": {
      "text/html": [
       "<div>\n",
       "<style scoped>\n",
       "    .dataframe tbody tr th:only-of-type {\n",
       "        vertical-align: middle;\n",
       "    }\n",
       "\n",
       "    .dataframe tbody tr th {\n",
       "        vertical-align: top;\n",
       "    }\n",
       "\n",
       "    .dataframe thead th {\n",
       "        text-align: right;\n",
       "    }\n",
       "</style>\n",
       "<table border=\"1\" class=\"dataframe\">\n",
       "  <thead>\n",
       "    <tr style=\"text-align: right;\">\n",
       "      <th></th>\n",
       "      <th>preg</th>\n",
       "      <th>plas</th>\n",
       "      <th>pres</th>\n",
       "      <th>skin</th>\n",
       "      <th>insu</th>\n",
       "      <th>mass</th>\n",
       "      <th>pedi</th>\n",
       "      <th>age</th>\n",
       "      <th>target</th>\n",
       "      <th>target_num</th>\n",
       "    </tr>\n",
       "  </thead>\n",
       "  <tbody>\n",
       "    <tr>\n",
       "      <th>0</th>\n",
       "      <td>6.0</td>\n",
       "      <td>148.0</td>\n",
       "      <td>72.0</td>\n",
       "      <td>35.0</td>\n",
       "      <td>0.0</td>\n",
       "      <td>33.6</td>\n",
       "      <td>0.627</td>\n",
       "      <td>50.0</td>\n",
       "      <td>tested_positive</td>\n",
       "      <td>1</td>\n",
       "    </tr>\n",
       "    <tr>\n",
       "      <th>1</th>\n",
       "      <td>1.0</td>\n",
       "      <td>85.0</td>\n",
       "      <td>66.0</td>\n",
       "      <td>29.0</td>\n",
       "      <td>0.0</td>\n",
       "      <td>26.6</td>\n",
       "      <td>0.351</td>\n",
       "      <td>31.0</td>\n",
       "      <td>tested_negative</td>\n",
       "      <td>0</td>\n",
       "    </tr>\n",
       "    <tr>\n",
       "      <th>2</th>\n",
       "      <td>8.0</td>\n",
       "      <td>183.0</td>\n",
       "      <td>64.0</td>\n",
       "      <td>0.0</td>\n",
       "      <td>0.0</td>\n",
       "      <td>23.3</td>\n",
       "      <td>0.672</td>\n",
       "      <td>32.0</td>\n",
       "      <td>tested_positive</td>\n",
       "      <td>1</td>\n",
       "    </tr>\n",
       "    <tr>\n",
       "      <th>3</th>\n",
       "      <td>1.0</td>\n",
       "      <td>89.0</td>\n",
       "      <td>66.0</td>\n",
       "      <td>23.0</td>\n",
       "      <td>94.0</td>\n",
       "      <td>28.1</td>\n",
       "      <td>0.167</td>\n",
       "      <td>21.0</td>\n",
       "      <td>tested_negative</td>\n",
       "      <td>0</td>\n",
       "    </tr>\n",
       "    <tr>\n",
       "      <th>4</th>\n",
       "      <td>0.0</td>\n",
       "      <td>137.0</td>\n",
       "      <td>40.0</td>\n",
       "      <td>35.0</td>\n",
       "      <td>168.0</td>\n",
       "      <td>43.1</td>\n",
       "      <td>2.288</td>\n",
       "      <td>33.0</td>\n",
       "      <td>tested_positive</td>\n",
       "      <td>1</td>\n",
       "    </tr>\n",
       "  </tbody>\n",
       "</table>\n",
       "</div>"
      ],
      "text/plain": [
       "   preg   plas  pres  skin   insu  mass   pedi   age           target   \n",
       "0   6.0  148.0  72.0  35.0    0.0  33.6  0.627  50.0  tested_positive  \\\n",
       "1   1.0   85.0  66.0  29.0    0.0  26.6  0.351  31.0  tested_negative   \n",
       "2   8.0  183.0  64.0   0.0    0.0  23.3  0.672  32.0  tested_positive   \n",
       "3   1.0   89.0  66.0  23.0   94.0  28.1  0.167  21.0  tested_negative   \n",
       "4   0.0  137.0  40.0  35.0  168.0  43.1  2.288  33.0  tested_positive   \n",
       "\n",
       "  target_num  \n",
       "0          1  \n",
       "1          0  \n",
       "2          1  \n",
       "3          0  \n",
       "4          1  "
      ]
     },
     "execution_count": 138,
     "metadata": {},
     "output_type": "execute_result"
    }
   ],
   "source": [
    "df.head()\n",
    "## here we can see that the new column has been added and the conversion has taken place as we thought"
   ]
  },
  {
   "cell_type": "markdown",
   "id": "0ee1b095",
   "metadata": {},
   "source": [
    "### let us remove the old target that is categorical and only keep target_num in our dataset"
   ]
  },
  {
   "cell_type": "code",
   "execution_count": 139,
   "id": "9c6818ff",
   "metadata": {},
   "outputs": [],
   "source": [
    "df.drop(['target'],inplace=True,axis=1)\n",
    "## here we are dropping the target inplace=True means it will premanently delete it\n",
    "## and axis=1 represents the column"
   ]
  },
  {
   "cell_type": "code",
   "execution_count": 140,
   "id": "a05470e4",
   "metadata": {},
   "outputs": [
    {
     "data": {
      "text/html": [
       "<div>\n",
       "<style scoped>\n",
       "    .dataframe tbody tr th:only-of-type {\n",
       "        vertical-align: middle;\n",
       "    }\n",
       "\n",
       "    .dataframe tbody tr th {\n",
       "        vertical-align: top;\n",
       "    }\n",
       "\n",
       "    .dataframe thead th {\n",
       "        text-align: right;\n",
       "    }\n",
       "</style>\n",
       "<table border=\"1\" class=\"dataframe\">\n",
       "  <thead>\n",
       "    <tr style=\"text-align: right;\">\n",
       "      <th></th>\n",
       "      <th>preg</th>\n",
       "      <th>plas</th>\n",
       "      <th>pres</th>\n",
       "      <th>skin</th>\n",
       "      <th>insu</th>\n",
       "      <th>mass</th>\n",
       "      <th>pedi</th>\n",
       "      <th>age</th>\n",
       "      <th>target_num</th>\n",
       "    </tr>\n",
       "  </thead>\n",
       "  <tbody>\n",
       "    <tr>\n",
       "      <th>0</th>\n",
       "      <td>6.0</td>\n",
       "      <td>148.0</td>\n",
       "      <td>72.0</td>\n",
       "      <td>35.0</td>\n",
       "      <td>0.0</td>\n",
       "      <td>33.6</td>\n",
       "      <td>0.627</td>\n",
       "      <td>50.0</td>\n",
       "      <td>1</td>\n",
       "    </tr>\n",
       "    <tr>\n",
       "      <th>1</th>\n",
       "      <td>1.0</td>\n",
       "      <td>85.0</td>\n",
       "      <td>66.0</td>\n",
       "      <td>29.0</td>\n",
       "      <td>0.0</td>\n",
       "      <td>26.6</td>\n",
       "      <td>0.351</td>\n",
       "      <td>31.0</td>\n",
       "      <td>0</td>\n",
       "    </tr>\n",
       "    <tr>\n",
       "      <th>2</th>\n",
       "      <td>8.0</td>\n",
       "      <td>183.0</td>\n",
       "      <td>64.0</td>\n",
       "      <td>0.0</td>\n",
       "      <td>0.0</td>\n",
       "      <td>23.3</td>\n",
       "      <td>0.672</td>\n",
       "      <td>32.0</td>\n",
       "      <td>1</td>\n",
       "    </tr>\n",
       "    <tr>\n",
       "      <th>3</th>\n",
       "      <td>1.0</td>\n",
       "      <td>89.0</td>\n",
       "      <td>66.0</td>\n",
       "      <td>23.0</td>\n",
       "      <td>94.0</td>\n",
       "      <td>28.1</td>\n",
       "      <td>0.167</td>\n",
       "      <td>21.0</td>\n",
       "      <td>0</td>\n",
       "    </tr>\n",
       "    <tr>\n",
       "      <th>4</th>\n",
       "      <td>0.0</td>\n",
       "      <td>137.0</td>\n",
       "      <td>40.0</td>\n",
       "      <td>35.0</td>\n",
       "      <td>168.0</td>\n",
       "      <td>43.1</td>\n",
       "      <td>2.288</td>\n",
       "      <td>33.0</td>\n",
       "      <td>1</td>\n",
       "    </tr>\n",
       "  </tbody>\n",
       "</table>\n",
       "</div>"
      ],
      "text/plain": [
       "   preg   plas  pres  skin   insu  mass   pedi   age target_num\n",
       "0   6.0  148.0  72.0  35.0    0.0  33.6  0.627  50.0          1\n",
       "1   1.0   85.0  66.0  29.0    0.0  26.6  0.351  31.0          0\n",
       "2   8.0  183.0  64.0   0.0    0.0  23.3  0.672  32.0          1\n",
       "3   1.0   89.0  66.0  23.0   94.0  28.1  0.167  21.0          0\n",
       "4   0.0  137.0  40.0  35.0  168.0  43.1  2.288  33.0          1"
      ]
     },
     "execution_count": 140,
     "metadata": {},
     "output_type": "execute_result"
    }
   ],
   "source": [
    "df.head()"
   ]
  },
  {
   "cell_type": "code",
   "execution_count": 141,
   "id": "5a66ad87",
   "metadata": {},
   "outputs": [
    {
     "name": "stdout",
     "output_type": "stream",
     "text": [
      "<class 'pandas.core.frame.DataFrame'>\n",
      "RangeIndex: 768 entries, 0 to 767\n",
      "Data columns (total 9 columns):\n",
      " #   Column      Non-Null Count  Dtype   \n",
      "---  ------      --------------  -----   \n",
      " 0   preg        768 non-null    float64 \n",
      " 1   plas        768 non-null    float64 \n",
      " 2   pres        768 non-null    float64 \n",
      " 3   skin        768 non-null    float64 \n",
      " 4   insu        768 non-null    float64 \n",
      " 5   mass        768 non-null    float64 \n",
      " 6   pedi        768 non-null    float64 \n",
      " 7   age         768 non-null    float64 \n",
      " 8   target_num  768 non-null    category\n",
      "dtypes: category(1), float64(8)\n",
      "memory usage: 49.0 KB\n"
     ]
    }
   ],
   "source": [
    "df.info()"
   ]
  },
  {
   "cell_type": "markdown",
   "id": "6e8f1467",
   "metadata": {},
   "source": [
    "### From the below description we can see that there are total of 768 count and out of that the most common or\n",
    "### the category that has the highest frequency is 0=> tested_negative and the frequency of it is 500"
   ]
  },
  {
   "cell_type": "code",
   "execution_count": 142,
   "id": "6db4cb7b",
   "metadata": {
    "scrolled": true
   },
   "outputs": [
    {
     "data": {
      "text/html": [
       "<div>\n",
       "<style scoped>\n",
       "    .dataframe tbody tr th:only-of-type {\n",
       "        vertical-align: middle;\n",
       "    }\n",
       "\n",
       "    .dataframe tbody tr th {\n",
       "        vertical-align: top;\n",
       "    }\n",
       "\n",
       "    .dataframe thead th {\n",
       "        text-align: right;\n",
       "    }\n",
       "</style>\n",
       "<table border=\"1\" class=\"dataframe\">\n",
       "  <thead>\n",
       "    <tr style=\"text-align: right;\">\n",
       "      <th></th>\n",
       "      <th>target_num</th>\n",
       "    </tr>\n",
       "  </thead>\n",
       "  <tbody>\n",
       "    <tr>\n",
       "      <th>count</th>\n",
       "      <td>768</td>\n",
       "    </tr>\n",
       "    <tr>\n",
       "      <th>unique</th>\n",
       "      <td>2</td>\n",
       "    </tr>\n",
       "    <tr>\n",
       "      <th>top</th>\n",
       "      <td>0</td>\n",
       "    </tr>\n",
       "    <tr>\n",
       "      <th>freq</th>\n",
       "      <td>500</td>\n",
       "    </tr>\n",
       "  </tbody>\n",
       "</table>\n",
       "</div>"
      ],
      "text/plain": [
       "        target_num\n",
       "count          768\n",
       "unique           2\n",
       "top              0\n",
       "freq           500"
      ]
     },
     "execution_count": 142,
     "metadata": {},
     "output_type": "execute_result"
    }
   ],
   "source": [
    "df.describe(include='category')"
   ]
  },
  {
   "cell_type": "markdown",
   "id": "49363369",
   "metadata": {},
   "source": [
    "## Visualizations"
   ]
  },
  {
   "cell_type": "code",
   "execution_count": 143,
   "id": "cd11e05b",
   "metadata": {},
   "outputs": [
    {
     "data": {
      "image/png": "[encoded data removed]",
      "text/plain": [
       "<Figure size 640x480 with 1 Axes>"
      ]
     },
     "metadata": {},
     "output_type": "display_data"
    },
    {
     "data": {
      "image/png": "[encoded data removed]",
      "text/plain": [
       "<Figure size 640x480 with 1 Axes>"
      ]
     },
     "metadata": {},
     "output_type": "display_data"
    },
    {
     "data": {
      "image/png": "[encoded data removed]",
      "text/plain": [
       "<Figure size 640x480 with 1 Axes>"
      ]
     },
     "metadata": {},
     "output_type": "display_data"
    },
    {
     "data": {
      "image/png": "[encoded data removed]",
      "text/plain": [
       "<Figure size 640x480 with 1 Axes>"
      ]
     },
     "metadata": {},
     "output_type": "display_data"
    },
    {
     "data": {
      "image/png": "[encoded data removed]",
      "text/plain": [
       "<Figure size 640x480 with 1 Axes>"
      ]
     },
     "metadata": {},
     "output_type": "display_data"
    },
    {
     "data": {
      "image/png": "[encoded data removed]",
      "text/plain": [
       "<Figure size 640x480 with 1 Axes>"
      ]
     },
     "metadata": {},
     "output_type": "display_data"
    },
    {
     "data": {
      "image/png": "[encoded data removed]",
      "text/plain": [
       "<Figure size 640x480 with 1 Axes>"
      ]
     },
     "metadata": {},
     "output_type": "display_data"
    },
    {
     "data": {
      "image/png": "[encoded data removed]",
      "text/plain": [
       "<Figure size 640x480 with 1 Axes>"
      ]
     },
     "metadata": {},
     "output_type": "display_data"
    }
   ],
   "source": [
    "for i in df.columns[:-1]:\n",
    "    sns.boxplot(data=df,x='target_num',y=i)\n",
    "    plt.title(i + \" vs target_num\")\n",
    "    plt.show()"
   ]
  },
  {
   "cell_type": "markdown",
   "id": "c8a06b5b",
   "metadata": {},
   "source": [
    "### Here i want to find out the differences in accuracies when we take different number of features"
   ]
  },
  {
   "cell_type": "code",
   "execution_count": 144,
   "id": "86457449",
   "metadata": {},
   "outputs": [
    {
     "name": "stdout",
     "output_type": "stream",
     "text": [
      "Selected feature:  Index(['pedi'], dtype='object')\n"
     ]
    }
   ],
   "source": [
    "X = df.drop('target_num', axis=1)\n",
    "y = df['target_num']\n",
    "\n",
    "# X is your feature matrix and y is your target vector\n",
    "model = LinearRegression()\n",
    "rfe = RFE(estimator=model,n_features_to_select=1) # Select the top 1 feature\n",
    "rfe.fit(X, y)\n",
    "print(\"Selected feature: \", X.columns[rfe.support_])"
   ]
  },
  {
   "cell_type": "code",
   "execution_count": 155,
   "id": "84edc940",
   "metadata": {},
   "outputs": [
    {
     "name": "stdout",
     "output_type": "stream",
     "text": [
      "The accuracy of the model with one feature is :-  0.6428571428571429\n",
      "The precision of the model with one feature is :- 0.0\n"
     ]
    },
    {
     "name": "stderr",
     "output_type": "stream",
     "text": [
      "/Library/Frameworks/Python.framework/Versions/3.10/lib/python3.10/site-packages/sklearn/metrics/_classification.py:1344: UndefinedMetricWarning: Precision is ill-defined and being set to 0.0 due to no predicted samples. Use `zero_division` parameter to control this behavior.\n",
      "  _warn_prf(average, modifier, msg_start, len(result))\n"
     ]
    }
   ],
   "source": [
    "# split data into features and target\n",
    "X = df[['pedi']]\n",
    "y = df['target_num']\n",
    "\n",
    "# split data into training and testing sets\n",
    "X_train, X_test, y_train, y_test = train_test_split(X, y, test_size=0.2, random_state=42)\n",
    "\n",
    "# initialize scaler and scale features\n",
    "scaler = StandardScaler() ## normalize the data\n",
    "X_train_scaled = scaler.fit_transform(X_train)\n",
    "X_test_scaled = scaler.transform(X_test)\n",
    "\n",
    "# initialize SVM model\n",
    "svm_model1 = SVC(kernel='linear')\n",
    "\n",
    "svm_model1.fit(X_train_scaled, y_train,)\n",
    "\n",
    "# make predictions on test set\n",
    "y_pred = svm_model1.predict(X_test_scaled)\n",
    "\n",
    "# evaluate model performance on test set\n",
    "accuracy = svm_model1.score(X_test_scaled, y_test)\n",
    "precision = precision_score(y_test, y_pred)\n",
    "\n",
    "print(\"The accuracy of the model with one feature is :- \",accuracy)\n",
    "print(\"The precision of the model with one feature is :-\",precision)"
   ]
  },
  {
   "cell_type": "code",
   "execution_count": 146,
   "id": "268fd33d",
   "metadata": {},
   "outputs": [
    {
     "name": "stdout",
     "output_type": "stream",
     "text": [
      "Selected feature:  Index(['preg', 'pedi'], dtype='object')\n"
     ]
    }
   ],
   "source": [
    "X = df.drop('target_num', axis=1)\n",
    "y = df['target_num']\n",
    "\n",
    "# X is your feature matrix and y is your target vector\n",
    "model = LinearRegression()\n",
    "rfe = RFE(estimator=model,n_features_to_select=2) # Select the top 2 feature\n",
    "rfe.fit(X, y)\n",
    "print(\"Selected feature: \", X.columns[rfe.support_])"
   ]
  },
  {
   "cell_type": "code",
   "execution_count": 147,
   "id": "b93deebd",
   "metadata": {},
   "outputs": [
    {
     "name": "stdout",
     "output_type": "stream",
     "text": [
      "The accuracy of the model with two feature is :-  0.6428571428571429\n",
      "The precision of the model with two feature is :- 0.0\n"
     ]
    },
    {
     "name": "stderr",
     "output_type": "stream",
     "text": [
      "/Library/Frameworks/Python.framework/Versions/3.10/lib/python3.10/site-packages/sklearn/metrics/_classification.py:1344: UndefinedMetricWarning: Precision is ill-defined and being set to 0.0 due to no predicted samples. Use `zero_division` parameter to control this behavior.\n",
      "  _warn_prf(average, modifier, msg_start, len(result))\n"
     ]
    }
   ],
   "source": [
    "# split data into features and target\n",
    "X = df[['preg','pedi']]\n",
    "y = df['target_num']\n",
    "\n",
    "# split data into training and testing sets\n",
    "X_train, X_test, y_train, y_test = train_test_split(X, y, test_size=0.2, random_state=42)\n",
    "\n",
    "# initialize scaler and scale features\n",
    "scaler = StandardScaler()\n",
    "X_train_scaled = scaler.fit_transform(X_train)\n",
    "X_test_scaled = scaler.transform(X_test)\n",
    "\n",
    "# initialize SVM model\n",
    "svm_model2 = SVC(kernel='linear')\n",
    "\n",
    "svm_model2.fit(X_train_scaled, y_train,)\n",
    "\n",
    "# make predictions on test set\n",
    "y_pred = svm_model2.predict(X_test_scaled)\n",
    "\n",
    "# evaluate model performance on test set\n",
    "accuracy = svm_model2.score(X_test_scaled, y_test)\n",
    "precision = precision_score(y_test, y_pred)\n",
    "\n",
    "print(\"The accuracy of the model with two feature is :- \",accuracy)\n",
    "print(\"The precision of the model with two feature is :-\",precision)"
   ]
  },
  {
   "cell_type": "code",
   "execution_count": 148,
   "id": "14de3aaf",
   "metadata": {},
   "outputs": [
    {
     "name": "stdout",
     "output_type": "stream",
     "text": [
      "Selected feature:  Index(['preg', 'mass', 'pedi'], dtype='object')\n"
     ]
    }
   ],
   "source": [
    "X = df.drop('target_num', axis=1)\n",
    "y = df['target_num']\n",
    "\n",
    "# X is your feature matrix and y is your target vector\n",
    "model = LinearRegression()\n",
    "rfe = RFE(estimator=model,n_features_to_select=3) # Select the top 3 feature\n",
    "rfe.fit(X, y)\n",
    "print(\"Selected feature: \", X.columns[rfe.support_])"
   ]
  },
  {
   "cell_type": "code",
   "execution_count": 149,
   "id": "40dff10d",
   "metadata": {},
   "outputs": [
    {
     "name": "stdout",
     "output_type": "stream",
     "text": [
      "The accuracy of the model with three feature is :-  0.7012987012987013\n",
      "The precision of the model with three feature is :- 0.68\n"
     ]
    }
   ],
   "source": [
    "# split data into features and target\n",
    "X = df[['preg', 'mass', 'pedi']]\n",
    "y = df['target_num']\n",
    "\n",
    "# split data into training and testing sets\n",
    "X_train, X_test, y_train, y_test = train_test_split(X, y, test_size=0.2, random_state=42)\n",
    "\n",
    "# initialize scaler and scale features\n",
    "scaler = StandardScaler()\n",
    "X_train_scaled = scaler.fit_transform(X_train)\n",
    "X_test_scaled = scaler.transform(X_test)\n",
    "\n",
    "# initialize SVM model\n",
    "svm_model3 = SVC(kernel='linear')\n",
    "\n",
    "svm_model3.fit(X_train_scaled, y_train,)\n",
    "\n",
    "# make predictions on test set\n",
    "y_pred = svm_model3.predict(X_test_scaled)\n",
    "\n",
    "# evaluate model performance on test set\n",
    "accuracy = svm_model3.score(X_test_scaled, y_test)\n",
    "precision = precision_score(y_test, y_pred)\n",
    "\n",
    "print(\"The accuracy of the model with three feature is :- \",accuracy)\n",
    "print(\"The precision of the model with three feature is :-\",precision)"
   ]
  },
  {
   "cell_type": "code",
   "execution_count": 150,
   "id": "c8223448",
   "metadata": {},
   "outputs": [
    {
     "name": "stdout",
     "output_type": "stream",
     "text": [
      "Selected feature:  Index(['preg', 'plas', 'mass', 'pedi'], dtype='object')\n"
     ]
    }
   ],
   "source": [
    "X = df.drop('target_num', axis=1)\n",
    "y = df['target_num']\n",
    "\n",
    "# X is your feature matrix and y is your target vector\n",
    "model = LinearRegression()\n",
    "rfe = RFE(estimator=model,n_features_to_select=4) # Select the top 4 feature\n",
    "rfe.fit(X, y)\n",
    "print(\"Selected feature: \", X.columns[rfe.support_])"
   ]
  },
  {
   "cell_type": "code",
   "execution_count": 151,
   "id": "f994f1db",
   "metadata": {},
   "outputs": [
    {
     "name": "stdout",
     "output_type": "stream",
     "text": [
      "The accuracy of the model with four feature is :-  0.7727272727272727\n",
      "The precision of the model with four feature is :- 0.7083333333333334\n"
     ]
    }
   ],
   "source": [
    "# split data into features and target\n",
    "X = df[['preg', 'plas', 'mass', 'pedi']]\n",
    "y = df['target_num']\n",
    "\n",
    "# split data into training and testing sets\n",
    "X_train, X_test, y_train, y_test = train_test_split(X, y, test_size=0.2, random_state=42)\n",
    "\n",
    "# initialize scaler and scale features\n",
    "scaler = StandardScaler()\n",
    "X_train_scaled = scaler.fit_transform(X_train)\n",
    "X_test_scaled = scaler.transform(X_test)\n",
    "\n",
    "# initialize SVM model\n",
    "svm_model4 = SVC(kernel='linear')\n",
    "\n",
    "svm_model4.fit(X_train_scaled, y_train,)\n",
    "\n",
    "# make predictions on test set\n",
    "y_pred = svm_model4.predict(X_test_scaled)\n",
    "\n",
    "# evaluate model performance on test set\n",
    "accuracy = svm_model4.score(X_test_scaled, y_test)\n",
    "precision = precision_score(y_test, y_pred)\n",
    "\n",
    "print(\"The accuracy of the model with four feature is :- \",accuracy)\n",
    "print(\"The precision of the model with four feature is :-\",precision)"
   ]
  },
  {
   "cell_type": "code",
   "execution_count": 152,
   "id": "ae977a2e",
   "metadata": {},
   "outputs": [
    {
     "name": "stdout",
     "output_type": "stream",
     "text": [
      "Selected feature:  Index(['preg', 'plas', 'mass', 'pedi', 'age'], dtype='object')\n"
     ]
    }
   ],
   "source": [
    "X = df.drop('target_num', axis=1)\n",
    "y = df['target_num']\n",
    "\n",
    "# X is your feature matrix and y is your target vector\n",
    "model = LinearRegression()\n",
    "rfe = RFE(estimator=model,n_features_to_select=5) # Select the top 5 feature\n",
    "rfe.fit(X, y)\n",
    "print(\"Selected feature: \", X.columns[rfe.support_])"
   ]
  },
  {
   "cell_type": "code",
   "execution_count": 158,
   "id": "1598929f",
   "metadata": {},
   "outputs": [
    {
     "name": "stdout",
     "output_type": "stream",
     "text": [
      "The accuracy of the model with 5 feature is :-  0.7792207792207793\n",
      "The precision of the model with 5 feature is :- 0.7142857142857143\n"
     ]
    }
   ],
   "source": [
    "# split data into features and target\n",
    "X = df[['preg', 'plas', 'mass', 'pedi', 'age']]\n",
    "y = df['target_num']\n",
    "\n",
    "# split data into training and testing sets\n",
    "X_train, X_test, y_train, y_test5 = train_test_split(X, y, test_size=0.2, random_state=42)\n",
    "\n",
    "# initialize scaler and scale features\n",
    "scaler = StandardScaler()\n",
    "X_train_scaled = scaler.fit_transform(X_train)\n",
    "X_test_scaled = scaler.transform(X_test)\n",
    "\n",
    "# initialize SVM model\n",
    "svm_model5 = SVC(kernel='linear')\n",
    "\n",
    "svm_model5.fit(X_train_scaled, y_train,)\n",
    "\n",
    "# make predictions on test set\n",
    "y_pred5 = svm_model5.predict(X_test_scaled)\n",
    "\n",
    "# evaluate model performance on test set\n",
    "accuracy = svm_model5.score(X_test_scaled, y_test5)\n",
    "precision = precision_score(y_test5, y_pred5)\n",
    "\n",
    "print(\"The accuracy of the model with 5 feature is :- \",accuracy)\n",
    "print(\"The precision of the model with 5 feature is :-\",precision)"
   ]
  },
  {
   "cell_type": "code",
   "execution_count": 159,
   "id": "1ff3aa13",
   "metadata": {},
   "outputs": [
    {
     "name": "stdout",
     "output_type": "stream",
     "text": [
      "The accuracy of the model with all feature is :-  0.7597402597402597\n",
      "The precision of the model with all feature is :- 0.6666666666666666\n"
     ]
    }
   ],
   "source": [
    "# split data into features and target\n",
    "X = df.drop('target_num',axis=1)\n",
    "y = df['target_num']\n",
    "\n",
    "# split data into training and testing sets\n",
    "X_train, X_test, y_train, y_test = train_test_split(X, y, test_size=0.2, random_state=42)\n",
    "\n",
    "# initialize scaler and scale features\n",
    "scaler = StandardScaler()\n",
    "X_train_scaled = scaler.fit_transform(X_train)\n",
    "X_test_scaled = scaler.transform(X_test)\n",
    "\n",
    "# initialize SVM model\n",
    "svm_model_all = SVC(kernel='linear')\n",
    "\n",
    "svm_model_all.fit(X_train_scaled, y_train,)\n",
    "\n",
    "# make predictions on test set\n",
    "y_pred = svm_model_all.predict(X_test_scaled)\n",
    "\n",
    "# evaluate model performance on test set\n",
    "accuracy = svm_model_all.score(X_test_scaled, y_test)\n",
    "precision = precision_score(y_test, y_pred)\n",
    "\n",
    "print(\"The accuracy of the model with all feature is :- \",accuracy)\n",
    "print(\"The precision of the model with all feature is :-\",precision)"
   ]
  },
  {
   "cell_type": "code",
   "execution_count": 160,
   "id": "ed600a65",
   "metadata": {},
   "outputs": [
    {
     "data": {
      "image/png": "[encoded data removed]",
      "text/plain": [
       "<Figure size 640x480 with 2 Axes>"
      ]
     },
     "metadata": {},
     "output_type": "display_data"
    }
   ],
   "source": [
    "from sklearn.metrics import confusion_matrix\n",
    "# Obtain the confusion matrix\n",
    "cm = confusion_matrix(y_test5, y_pred5)\n",
    "\n",
    "# Define the labels for the confusion matrix\n",
    "labels = ['No Diabetes', 'Diabetes']\n",
    "\n",
    "# Create a heatmap visualization of the confusion matrix\n",
    "sns.heatmap(cm, annot=True, cmap='Blues', fmt='d', xticklabels=labels, yticklabels=labels)\n",
    "\n",
    "# Set the axis labels and title\n",
    "plt.xlabel('Predicted Label')\n",
    "plt.ylabel('True Label')\n",
    "plt.title('Confusion Matrix')\n",
    "\n",
    "# Display the plot\n",
    "plt.show()"
   ]
  },
  {
   "cell_type": "code",
   "execution_count": null,
   "id": "f49f1e80",
   "metadata": {},
   "outputs": [],
   "source": []
  }
 ],
 "metadata": {
  "kernelspec": {
   "display_name": "Python 3 (ipykernel)",
   "language": "python",
   "name": "python3"
  },
  "language_info": {
   "codemirror_mode": {
    "name": "ipython",
    "version": 3
   },
   "file_extension": ".py",
   "mimetype": "text/x-python",
   "name": "python",
   "nbconvert_exporter": "python",
   "pygments_lexer": "ipython3",
   "version": "3.10.11"
  }
 },
 "nbformat": 4,
 "nbformat_minor": 5
}
